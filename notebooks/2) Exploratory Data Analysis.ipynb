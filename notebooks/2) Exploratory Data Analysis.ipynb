{
 "cells": [
  {
   "cell_type": "markdown",
   "id": "1dc11c48-13f9-4db9-960f-d09a5b0f7cdf",
   "metadata": {},
   "source": [
    "This project is going to be a classification task, with a partially structured dataset, as one of the columns will have unstructured text inside of it."
   ]
  },
  {
   "cell_type": "code",
   "execution_count": 1,
   "id": "772fd665-9516-49a1-9158-77827120eaf5",
   "metadata": {},
   "outputs": [],
   "source": [
    "import pandas as pd\n",
    "df = pd.read_csv('../data/books.csv')"
   ]
  },
  {
   "cell_type": "code",
   "execution_count": 2,
   "id": "07f28428-6960-48a3-a689-32a59b30a04c",
   "metadata": {},
   "outputs": [
    {
     "data": {
      "text/html": [
       "<div>\n",
       "<style scoped>\n",
       "    .dataframe tbody tr th:only-of-type {\n",
       "        vertical-align: middle;\n",
       "    }\n",
       "\n",
       "    .dataframe tbody tr th {\n",
       "        vertical-align: top;\n",
       "    }\n",
       "\n",
       "    .dataframe thead th {\n",
       "        text-align: right;\n",
       "    }\n",
       "</style>\n",
       "<table border=\"1\" class=\"dataframe\">\n",
       "  <thead>\n",
       "    <tr style=\"text-align: right;\">\n",
       "      <th></th>\n",
       "      <th>name</th>\n",
       "      <th>favorite_genre</th>\n",
       "      <th>description</th>\n",
       "    </tr>\n",
       "  </thead>\n",
       "  <tbody>\n",
       "    <tr>\n",
       "      <th>0</th>\n",
       "      <td>Alice</td>\n",
       "      <td>Fantasy</td>\n",
       "      <td>Loves dragons and mysterious lands</td>\n",
       "    </tr>\n",
       "    <tr>\n",
       "      <th>1</th>\n",
       "      <td>Bob</td>\n",
       "      <td>Sci-Fi</td>\n",
       "      <td>Enjoys exploring space and futuristic tech</td>\n",
       "    </tr>\n",
       "    <tr>\n",
       "      <th>2</th>\n",
       "      <td>Charlie</td>\n",
       "      <td>Horror</td>\n",
       "      <td>Fascinated by ghosts and dark stories</td>\n",
       "    </tr>\n",
       "  </tbody>\n",
       "</table>\n",
       "</div>"
      ],
      "text/plain": [
       "      name favorite_genre                                 description\n",
       "0    Alice        Fantasy          Loves dragons and mysterious lands\n",
       "1      Bob         Sci-Fi  Enjoys exploring space and futuristic tech\n",
       "2  Charlie         Horror       Fascinated by ghosts and dark stories"
      ]
     },
     "execution_count": 2,
     "metadata": {},
     "output_type": "execute_result"
    }
   ],
   "source": [
    "df"
   ]
  },
  {
   "cell_type": "code",
   "execution_count": 3,
   "id": "a7472b33-2419-47b9-8045-59917d0c1b0e",
   "metadata": {},
   "outputs": [
    {
     "name": "stdout",
     "output_type": "stream",
     "text": [
      "      name favorite_genre                                 description\n",
      "0    Alice        Fantasy          Loves dragons and mysterious lands\n",
      "1      Bob         Sci-Fi  Enjoys exploring space and futuristic tech\n",
      "2  Charlie         Horror       Fascinated by ghosts and dark stories\n"
     ]
    }
   ],
   "source": [
    "print(df)"
   ]
  },
  {
   "cell_type": "code",
   "execution_count": 4,
   "id": "0602d95e-4556-4fc8-b125-eb38edab006c",
   "metadata": {},
   "outputs": [
    {
     "data": {
      "text/plain": [
       "(3, 3)"
      ]
     },
     "execution_count": 4,
     "metadata": {},
     "output_type": "execute_result"
    }
   ],
   "source": [
    "df.shape"
   ]
  },
  {
   "cell_type": "code",
   "execution_count": 5,
   "id": "ef34a102-4868-4beb-af58-46984c90c589",
   "metadata": {},
   "outputs": [
    {
     "name": "stdout",
     "output_type": "stream",
     "text": [
      "<class 'pandas.core.frame.DataFrame'>\n",
      "RangeIndex: 3 entries, 0 to 2\n",
      "Data columns (total 3 columns):\n",
      " #   Column          Non-Null Count  Dtype \n",
      "---  ------          --------------  ----- \n",
      " 0   name            3 non-null      object\n",
      " 1   favorite_genre  3 non-null      object\n",
      " 2   description     3 non-null      object\n",
      "dtypes: object(3)\n",
      "memory usage: 200.0+ bytes\n"
     ]
    }
   ],
   "source": [
    "df.info()"
   ]
  },
  {
   "cell_type": "markdown",
   "id": "7cfc7e83-b17c-447b-80f7-7832db45af50",
   "metadata": {},
   "source": [
    "df.shape gives the number of rows and columns, while df.info() gives the class, range, types of data and memory usage, also tells us if there are any null values and what kind of data each column has. "
   ]
  },
  {
   "cell_type": "code",
   "execution_count": 6,
   "id": "557db426-3e6c-4550-8d61-c5ef0310e51c",
   "metadata": {},
   "outputs": [
    {
     "data": {
      "text/html": [
       "<div>\n",
       "<style scoped>\n",
       "    .dataframe tbody tr th:only-of-type {\n",
       "        vertical-align: middle;\n",
       "    }\n",
       "\n",
       "    .dataframe tbody tr th {\n",
       "        vertical-align: top;\n",
       "    }\n",
       "\n",
       "    .dataframe thead th {\n",
       "        text-align: right;\n",
       "    }\n",
       "</style>\n",
       "<table border=\"1\" class=\"dataframe\">\n",
       "  <thead>\n",
       "    <tr style=\"text-align: right;\">\n",
       "      <th></th>\n",
       "      <th>name</th>\n",
       "      <th>favorite_genre</th>\n",
       "      <th>description</th>\n",
       "    </tr>\n",
       "  </thead>\n",
       "  <tbody>\n",
       "    <tr>\n",
       "      <th>count</th>\n",
       "      <td>3</td>\n",
       "      <td>3</td>\n",
       "      <td>3</td>\n",
       "    </tr>\n",
       "    <tr>\n",
       "      <th>unique</th>\n",
       "      <td>3</td>\n",
       "      <td>3</td>\n",
       "      <td>3</td>\n",
       "    </tr>\n",
       "    <tr>\n",
       "      <th>top</th>\n",
       "      <td>Alice</td>\n",
       "      <td>Fantasy</td>\n",
       "      <td>Loves dragons and mysterious lands</td>\n",
       "    </tr>\n",
       "    <tr>\n",
       "      <th>freq</th>\n",
       "      <td>1</td>\n",
       "      <td>1</td>\n",
       "      <td>1</td>\n",
       "    </tr>\n",
       "  </tbody>\n",
       "</table>\n",
       "</div>"
      ],
      "text/plain": [
       "         name favorite_genre                         description\n",
       "count       3              3                                   3\n",
       "unique      3              3                                   3\n",
       "top     Alice        Fantasy  Loves dragons and mysterious lands\n",
       "freq        1              1                                   1"
      ]
     },
     "execution_count": 6,
     "metadata": {},
     "output_type": "execute_result"
    }
   ],
   "source": [
    "df.describe()"
   ]
  },
  {
   "cell_type": "markdown",
   "id": "78606477-53a7-49de-a18d-e86fe39fb292",
   "metadata": {},
   "source": [
    "df.describe() Gives the count, unique counts, top and frequency of each column. Might be useful. Gives mean, std, min, max for numbers."
   ]
  },
  {
   "cell_type": "code",
   "execution_count": 7,
   "id": "50df0408-14ae-40c4-84e1-b5c0889f1580",
   "metadata": {},
   "outputs": [
    {
     "data": {
      "text/plain": [
       "0    False\n",
       "1    False\n",
       "2    False\n",
       "dtype: bool"
      ]
     },
     "execution_count": 7,
     "metadata": {},
     "output_type": "execute_result"
    }
   ],
   "source": [
    "df.duplicated()"
   ]
  },
  {
   "cell_type": "code",
   "execution_count": 8,
   "id": "4aff7fd4-2c1e-43be-aed7-65bf7f8a8bd1",
   "metadata": {},
   "outputs": [
    {
     "data": {
      "text/plain": [
       "np.int64(0)"
      ]
     },
     "execution_count": 8,
     "metadata": {},
     "output_type": "execute_result"
    }
   ],
   "source": [
    "df.duplicated().sum()"
   ]
  },
  {
   "cell_type": "markdown",
   "id": "bac6145d-fb34-4e50-971f-b7fd147c4424",
   "metadata": {},
   "source": [
    "0 means no duplicated rows, 1 means otherwise. np is numpy."
   ]
  },
  {
   "cell_type": "code",
   "execution_count": 9,
   "id": "15cac019-3c46-474b-9f64-3815bc9e8b23",
   "metadata": {},
   "outputs": [
    {
     "data": {
      "text/plain": [
       "np.int64(3)"
      ]
     },
     "execution_count": 9,
     "metadata": {},
     "output_type": "execute_result"
    }
   ],
   "source": [
    "df['favorite_genre'].count()"
   ]
  },
  {
   "cell_type": "code",
   "execution_count": 10,
   "id": "6fd3bf41-4d74-4ed3-9766-2dddcd2d7ff8",
   "metadata": {},
   "outputs": [
    {
     "data": {
      "text/plain": [
       "favorite_genre\n",
       "Fantasy    1\n",
       "Sci-Fi     1\n",
       "Horror     1\n",
       "Name: count, dtype: int64"
      ]
     },
     "execution_count": 10,
     "metadata": {},
     "output_type": "execute_result"
    }
   ],
   "source": [
    "df['favorite_genre'].value_counts()"
   ]
  },
  {
   "cell_type": "markdown",
   "id": "ccc99966-e9c4-4bf2-8a07-880344041318",
   "metadata": {},
   "source": [
    "count() returns the total count, while value_counts() returns the counts of each value. Pretty neat."
   ]
  },
  {
   "cell_type": "code",
   "execution_count": null,
   "id": "f4facc92-3325-41c3-9862-f88dae80b612",
   "metadata": {},
   "outputs": [],
   "source": []
  }
 ],
 "metadata": {
  "kernelspec": {
   "display_name": "Python (neurotale)",
   "language": "python",
   "name": "neurotale"
  },
  "language_info": {
   "codemirror_mode": {
    "name": "ipython",
    "version": 3
   },
   "file_extension": ".py",
   "mimetype": "text/x-python",
   "name": "python",
   "nbconvert_exporter": "python",
   "pygments_lexer": "ipython3",
   "version": "3.10.18"
  }
 },
 "nbformat": 4,
 "nbformat_minor": 5
}
