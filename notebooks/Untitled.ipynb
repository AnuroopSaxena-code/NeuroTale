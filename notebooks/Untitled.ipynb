{
 "cells": [
  {
   "cell_type": "code",
   "execution_count": 1,
   "id": "e92347f0-dda5-4850-8037-34c3476f21aa",
   "metadata": {},
   "outputs": [
    {
     "name": "stdout",
     "output_type": "stream",
     "text": [
      "No error\n"
     ]
    }
   ],
   "source": [
    "import pandas as pd\n",
    "print(\"No error\")"
   ]
  },
  {
   "cell_type": "code",
   "execution_count": 3,
   "id": "e7cecbd5-32bb-480c-affa-75732025eda7",
   "metadata": {},
   "outputs": [
    {
     "name": "stdout",
     "output_type": "stream",
     "text": [
      "      name favorite_genre                                 description\n",
      "0    Alice        Fantasy          Loves dragons and mysterious lands\n",
      "1      Bob         Sci-Fi  Enjoys exploring space and futuristic tech\n",
      "2  Charlie         Horror       Fascinated by ghosts and dark stories\n"
     ]
    }
   ],
   "source": [
    "df = pd.read_csv('../data/books.csv')\n",
    "print(df)"
   ]
  },
  {
   "cell_type": "code",
   "execution_count": null,
   "id": "8bdbb966-6972-440a-ad8b-02375b35de10",
   "metadata": {},
   "outputs": [],
   "source": []
  }
 ],
 "metadata": {
  "kernelspec": {
   "display_name": "Python (neurotale)",
   "language": "python",
   "name": "neurotale"
  },
  "language_info": {
   "codemirror_mode": {
    "name": "ipython",
    "version": 3
   },
   "file_extension": ".py",
   "mimetype": "text/x-python",
   "name": "python",
   "nbconvert_exporter": "python",
   "pygments_lexer": "ipython3",
   "version": "3.10.18"
  }
 },
 "nbformat": 4,
 "nbformat_minor": 5
}
