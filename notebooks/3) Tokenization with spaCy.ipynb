{
 "cells": [
  {
   "cell_type": "code",
   "execution_count": 1,
   "id": "7d6327e4-75f9-467b-82cc-da997e7c3b6a",
   "metadata": {},
   "outputs": [],
   "source": [
    "import pandas as pd \n",
    "import spacy\n",
    "nlp = spacy.load('en_core_web_sm')\n",
    "df = pd.read_csv('../data/books.csv')"
   ]
  },
  {
   "cell_type": "markdown",
   "id": "d2f2609d-9d17-42d9-9d74-12192736875b",
   "metadata": {},
   "source": [
    "The third line is loading a trained english language model."
   ]
  },
  {
   "cell_type": "code",
   "execution_count": 2,
   "id": "a4009bbf-ba39-44ce-9729-0e728948ad00",
   "metadata": {},
   "outputs": [
    {
     "name": "stdout",
     "output_type": "stream",
     "text": [
      "      name favorite_genre                                 description\n",
      "0    Alice        Fantasy          Loves dragons and mysterious lands\n",
      "1      Bob         Sci-Fi  Enjoys exploring space and futuristic tech\n",
      "2  Charlie         Horror       Fascinated by ghosts and dark stories\n"
     ]
    }
   ],
   "source": [
    "print(df)"
   ]
  },
  {
   "cell_type": "markdown",
   "id": "4e6d5380-d7d1-41cf-868c-039946d692a4",
   "metadata": {},
   "source": [
    "Now, I'll try using one of the descriptions to see if spacy is working as I intend."
   ]
  },
  {
   "cell_type": "code",
   "execution_count": 3,
   "id": "55beb328-091d-435d-979a-4e094ead245c",
   "metadata": {},
   "outputs": [
    {
     "name": "stdout",
     "output_type": "stream",
     "text": [
      "Loves dragons and mysterious lands\n"
     ]
    }
   ],
   "source": [
    "text = df['description'][0]\n",
    "print(text)"
   ]
  },
  {
   "cell_type": "code",
   "execution_count": 4,
   "id": "4e97384e-ecf7-4788-9601-25363ffaa33e",
   "metadata": {},
   "outputs": [],
   "source": [
    "doc = nlp(text.lower())"
   ]
  },
  {
   "cell_type": "markdown",
   "id": "ea68e57e-5baf-49ac-b7cf-1fa40109f330",
   "metadata": {},
   "source": [
    "This runs it through spaCy's NLP pipeline."
   ]
  },
  {
   "cell_type": "code",
   "execution_count": 5,
   "id": "6c61177e-9947-4498-89f0-9f640bd42788",
   "metadata": {},
   "outputs": [
    {
     "name": "stdout",
     "output_type": "stream",
     "text": [
      "['love', 'dragon', 'mysterious', 'land']\n"
     ]
    }
   ],
   "source": [
    "tokens = []\n",
    "for token in doc:\n",
    "    if not token.is_stop and not token.is_punct:\n",
    "        tokens.append(token.lemma_)\n",
    "print(tokens)"
   ]
  },
  {
   "cell_type": "markdown",
   "id": "a8b76e5a-c9d6-483a-8716-cad149e178f3",
   "metadata": {},
   "source": [
    "I removed stopwords (and), punctuation and implemented lemmatization (eg: running -> run) and created tokens of all the valid words.\n",
    "Now, I'll do this for all the descriptions."
   ]
  },
  {
   "cell_type": "code",
   "execution_count": 7,
   "id": "af749904-5ec9-456b-9987-dc0d9d30a8b8",
   "metadata": {},
   "outputs": [
    {
     "name": "stdout",
     "output_type": "stream",
     "text": [
      "                                  description  \\\n",
      "0          Loves dragons and mysterious lands   \n",
      "1  Enjoys exploring space and futuristic tech   \n",
      "2       Fascinated by ghosts and dark stories   \n",
      "\n",
      "                              cleaned_tokens  \n",
      "0           [love, dragon, mysterious, land]  \n",
      "1  [enjoy, explore, space, futuristic, tech]  \n",
      "2            [fascinate, ghost, dark, story]  \n"
     ]
    }
   ],
   "source": [
    "def clean_description(text):\n",
    "    doc = nlp(text.lower())\n",
    "    return [token.lemma_ for token in doc if not token.is_stop and not token.is_punct]\n",
    "\n",
    "df['cleaned_tokens'] = df['description'].apply(clean_description)\n",
    "print(df[['description','cleaned_tokens']])"
   ]
  },
  {
   "cell_type": "code",
   "execution_count": null,
   "id": "a38f1346-4c6b-42c0-b683-ad7455640081",
   "metadata": {},
   "outputs": [],
   "source": []
  }
 ],
 "metadata": {
  "kernelspec": {
   "display_name": "Python (neurotale)",
   "language": "python",
   "name": "neurotale"
  },
  "language_info": {
   "codemirror_mode": {
    "name": "ipython",
    "version": 3
   },
   "file_extension": ".py",
   "mimetype": "text/x-python",
   "name": "python",
   "nbconvert_exporter": "python",
   "pygments_lexer": "ipython3",
   "version": "3.10.18"
  }
 },
 "nbformat": 4,
 "nbformat_minor": 5
}
