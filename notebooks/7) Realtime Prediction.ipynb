{
 "cells": [
  {
   "cell_type": "code",
   "execution_count": 1,
   "id": "305ce077-cf47-4114-ad24-3988317e7095",
   "metadata": {},
   "outputs": [],
   "source": [
    "import joblib \n",
    "model = joblib.load('../models/final_model.pkl')"
   ]
  },
  {
   "cell_type": "code",
   "execution_count": 11,
   "id": "a5dc25ab-11be-477f-bcb2-5185d1cd32b1",
   "metadata": {
    "jp-MarkdownHeadingCollapsed": true
   },
   "outputs": [],
   "source": [
    "import spacy\n",
    "nlp = spacy.load('en_core_web_sm')\n",
    "\n",
    "def clean_input(text):\n",
    "    doc = nlp(text.lower())\n",
    "    return \" \".join([token.lemma_ for token in doc if not token.is_punct and not token.is_stop])\n",
    "text = \"I enjoy eerie atmospheres, haunted houses and dark legends.\"\n",
    "cleaned_text = clean_input(text)"
   ]
  },
  {
   "cell_type": "code",
   "execution_count": 15,
   "id": "594559c6-b0ee-4b95-aa70-4bf8dfd197ed",
   "metadata": {},
   "outputs": [
    {
     "name": "stdout",
     "output_type": "stream",
     "text": [
      "Horror\n"
     ]
    }
   ],
   "source": [
    "predicted_genre = model.predict([cleaned_text])[0] # cleaned_text is a list because we trained on a string of lists\n",
    "print(predicted_genre)"
   ]
  },
  {
   "cell_type": "code",
   "execution_count": 14,
   "id": "4e0573d1-6934-42cf-bc29-9dfc4a6f63df",
   "metadata": {},
   "outputs": [
    {
     "name": "stdout",
     "output_type": "stream",
     "text": [
      "Recommended book: The Shining\n"
     ]
    }
   ],
   "source": [
    "import random\n",
    "\n",
    "book_dict = {\n",
    "    \"Fantasy\": [\"The Hobbit\", \"Mistborn\", \"Harry Potter\"],\n",
    "    \"Sci-Fi\": [\"Dune\", \"Ender’s Game\", \"The Martian\"],\n",
    "    \"Horror\": [\"It\", \"The Shining\", \"Bird Box\"]\n",
    "}\n",
    "\n",
    "recommended_book = random.choice(book_dict.get(predicted_genre, [\"No recommendation available\"]))\n",
    "print(f\"Recommended book: {recommended_book}\")"
   ]
  },
  {
   "cell_type": "code",
   "execution_count": null,
   "id": "e15bf972-7423-4918-b7c9-92e8166790f5",
   "metadata": {},
   "outputs": [],
   "source": []
  }
 ],
 "metadata": {
  "kernelspec": {
   "display_name": "Python (neurotale)",
   "language": "python",
   "name": "neurotale"
  },
  "language_info": {
   "codemirror_mode": {
    "name": "ipython",
    "version": 3
   },
   "file_extension": ".py",
   "mimetype": "text/x-python",
   "name": "python",
   "nbconvert_exporter": "python",
   "pygments_lexer": "ipython3",
   "version": "3.10.18"
  }
 },
 "nbformat": 4,
 "nbformat_minor": 5
}
