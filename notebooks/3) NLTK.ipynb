{
 "cells": [
  {
   "cell_type": "markdown",
   "id": "56ec115e-ff57-47a0-8fde-2307edf179b4",
   "metadata": {},
   "source": [
    "## Natural Language Toolkit (NLTK)"
   ]
  },
  {
   "cell_type": "code",
   "execution_count": 12,
   "id": "d18a4818-9e5f-4270-ae1c-b4441b207523",
   "metadata": {},
   "outputs": [
    {
     "data": {
      "text/html": [
       "<div>\n",
       "<style scoped>\n",
       "    .dataframe tbody tr th:only-of-type {\n",
       "        vertical-align: middle;\n",
       "    }\n",
       "\n",
       "    .dataframe tbody tr th {\n",
       "        vertical-align: top;\n",
       "    }\n",
       "\n",
       "    .dataframe thead th {\n",
       "        text-align: right;\n",
       "    }\n",
       "</style>\n",
       "<table border=\"1\" class=\"dataframe\">\n",
       "  <thead>\n",
       "    <tr style=\"text-align: right;\">\n",
       "      <th></th>\n",
       "      <th>name</th>\n",
       "      <th>favorite_genre</th>\n",
       "      <th>description</th>\n",
       "    </tr>\n",
       "  </thead>\n",
       "  <tbody>\n",
       "    <tr>\n",
       "      <th>0</th>\n",
       "      <td>Alice</td>\n",
       "      <td>Fantasy</td>\n",
       "      <td>Loves dragons and mysterious lands</td>\n",
       "    </tr>\n",
       "    <tr>\n",
       "      <th>1</th>\n",
       "      <td>Bob</td>\n",
       "      <td>Sci-Fi</td>\n",
       "      <td>Enjoys exploring space and futuristic tech</td>\n",
       "    </tr>\n",
       "    <tr>\n",
       "      <th>2</th>\n",
       "      <td>Charlie</td>\n",
       "      <td>Horror</td>\n",
       "      <td>Fascinated by ghosts and dark stories</td>\n",
       "    </tr>\n",
       "  </tbody>\n",
       "</table>\n",
       "</div>"
      ],
      "text/plain": [
       "      name favorite_genre                                 description\n",
       "0    Alice        Fantasy          Loves dragons and mysterious lands\n",
       "1      Bob         Sci-Fi  Enjoys exploring space and futuristic tech\n",
       "2  Charlie         Horror       Fascinated by ghosts and dark stories"
      ]
     },
     "execution_count": 12,
     "metadata": {},
     "output_type": "execute_result"
    }
   ],
   "source": [
    "import pandas as pd\n",
    "df = pd.read_csv('../data/books.csv')\n",
    "df"
   ]
  },
  {
   "cell_type": "code",
   "execution_count": 1,
   "id": "eeb07805-cbe4-46c5-9287-ffbc06c19fb3",
   "metadata": {},
   "outputs": [],
   "source": [
    "import nltk"
   ]
  },
  {
   "cell_type": "markdown",
   "id": "5039ef93-be54-4c56-b7bf-ad678d94500d",
   "metadata": {},
   "source": [
    "This is for important the NLTK library."
   ]
  },
  {
   "cell_type": "code",
   "execution_count": 2,
   "id": "16eef1b7-0767-4233-b23c-905c5035bcc9",
   "metadata": {},
   "outputs": [
    {
     "name": "stderr",
     "output_type": "stream",
     "text": [
      "[nltk_data] Downloading package punkt to\n",
      "[nltk_data]     C:\\Users\\anuro\\AppData\\Roaming\\nltk_data...\n",
      "[nltk_data]   Unzipping tokenizers\\punkt.zip.\n",
      "[nltk_data] Downloading package stopwords to\n",
      "[nltk_data]     C:\\Users\\anuro\\AppData\\Roaming\\nltk_data...\n",
      "[nltk_data]   Unzipping corpora\\stopwords.zip.\n",
      "[nltk_data] Downloading package wordnet to\n",
      "[nltk_data]     C:\\Users\\anuro\\AppData\\Roaming\\nltk_data...\n",
      "[nltk_data] Downloading package omw-1.4 to\n",
      "[nltk_data]     C:\\Users\\anuro\\AppData\\Roaming\\nltk_data...\n"
     ]
    },
    {
     "data": {
      "text/plain": [
       "True"
      ]
     },
     "execution_count": 2,
     "metadata": {},
     "output_type": "execute_result"
    }
   ],
   "source": [
    "nltk.download('punkt')\n",
    "nltk.download('stopwords')\n",
    "nltk.download('wordnet')\n",
    "nltk.download('omw-1.4')"
   ]
  },
  {
   "cell_type": "markdown",
   "id": "079f68f6-b6b9-4ffc-bccb-ae0c53d25594",
   "metadata": {},
   "source": [
    "punkt is a tokenizer which will break the strings into words and sentences, stopwords is a list of words like the,and etc. which we'll want to remove from the user's personality description, wordnet and omw-1.4 are used for lemmatization (running -> run) "
   ]
  },
  {
   "cell_type": "markdown",
   "id": "736787fb-2227-4322-98d9-c2d107619cbf",
   "metadata": {},
   "source": [
    "## Lowercasing and Tokenization"
   ]
  },
  {
   "cell_type": "code",
   "execution_count": 23,
   "id": "64ff64d3-da23-4c6e-9e25-126fe2e5626f",
   "metadata": {},
   "outputs": [
    {
     "ename": "SyntaxError",
     "evalue": "unterminated string literal (detected at line 1) (3174010458.py, line 1)",
     "output_type": "error",
     "traceback": [
      "\u001b[1;36m  Cell \u001b[1;32mIn[23], line 1\u001b[1;36m\u001b[0m\n\u001b[1;33m    nltk.data.path.append(r\"C:\\nltk_data\u001b[0m\n\u001b[1;37m                          ^\u001b[0m\n\u001b[1;31mSyntaxError\u001b[0m\u001b[1;31m:\u001b[0m unterminated string literal (detected at line 1)\n"
     ]
    }
   ],
   "source": [
    "nltk.data.path.append(r\"C:\\nltk_data\")\n",
    "from nltk.tokenize impor"
   ]
  },
  {
   "cell_type": "code",
   "execution_count": null,
   "id": "1565f231-99da-47a9-b2b4-2d204e2907b0",
   "metadata": {},
   "outputs": [],
   "source": []
  }
 ],
 "metadata": {
  "kernelspec": {
   "display_name": "Python (neurotale)",
   "language": "python",
   "name": "neurotale"
  },
  "language_info": {
   "codemirror_mode": {
    "name": "ipython",
    "version": 3
   },
   "file_extension": ".py",
   "mimetype": "text/x-python",
   "name": "python",
   "nbconvert_exporter": "python",
   "pygments_lexer": "ipython3",
   "version": "3.10.18"
  }
 },
 "nbformat": 4,
 "nbformat_minor": 5
}
