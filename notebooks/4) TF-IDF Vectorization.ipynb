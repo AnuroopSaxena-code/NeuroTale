{
 "cells": [
  {
   "cell_type": "markdown",
   "id": "7fcc339e-0cd3-452b-8913-ebec4911b23b",
   "metadata": {},
   "source": [
    "TF is term frequency, i.e. how many times a word appears in description.\n",
    "IDF is inverse document frequence, i.e. how rare that word is across all users.\n",
    "\n",
    "TF-IDF: common in one user's desc, rare in other's -> high score"
   ]
  },
  {
   "cell_type": "code",
   "execution_count": 3,
   "id": "e6f7f543-9621-4910-be3d-515a7b90f054",
   "metadata": {},
   "outputs": [],
   "source": [
    "import pandas as pd\n",
    "from sklearn.feature_extraction.text import TfidfVectorizer\n",
    "import spacy\n",
    "nlp = spacy.load('en_core_web_sm')\n",
    "df = pd.read_csv('../data/books.csv')"
   ]
  },
  {
   "cell_type": "code",
   "execution_count": 4,
   "id": "7ca79251-8884-4e53-97c0-192944a50ac2",
   "metadata": {},
   "outputs": [],
   "source": [
    "def clean_description(text):\n",
    "    doc = nlp(text.lower())\n",
    "    return [token.lemma_ for token in doc if not token.is_punct and not token.is_stop]\n",
    "df['cleaned_tokens'] = df['description'].apply(clean_description)"
   ]
  },
  {
   "cell_type": "code",
   "execution_count": 5,
   "id": "ee4d5486-493a-4948-9de5-95deeb8f6bba",
   "metadata": {},
   "outputs": [
    {
     "name": "stdout",
     "output_type": "stream",
     "text": [
      "0             [love, dragon, mysterious, land]\n",
      "1    [enjoy, explore, space, futuristic, tech]\n",
      "2              [fascinate, ghost, dark, story]\n",
      "Name: cleaned_tokens, dtype: object\n"
     ]
    }
   ],
   "source": [
    "print(df['cleaned_tokens'])"
   ]
  },
  {
   "cell_type": "markdown",
   "id": "5402f52b-5ae5-4c1a-a6b7-9d02903ca3c1",
   "metadata": {},
   "source": [
    "TfidfVectorizer accepts string, so:"
   ]
  },
  {
   "cell_type": "code",
   "execution_count": 10,
   "id": "e693c93a-4615-4325-b6f3-e2218888474b",
   "metadata": {},
   "outputs": [
    {
     "name": "stdout",
     "output_type": "stream",
     "text": [
      "                              cleaned_tokens  \\\n",
      "0           [love, dragon, mysterious, land]   \n",
      "1  [enjoy, explore, space, futuristic, tech]   \n",
      "2            [fascinate, ghost, dark, story]   \n",
      "\n",
      "                          cleaned_text  \n",
      "0          love dragon mysterious land  \n",
      "1  enjoy explore space futuristic tech  \n",
      "2           fascinate ghost dark story  \n"
     ]
    }
   ],
   "source": [
    "df['cleaned_text'] = df['cleaned_tokens'].apply(lambda tokens: ' '.join(tokens))\n",
    "print(df[['cleaned_tokens','cleaned_text']])"
   ]
  },
  {
   "cell_type": "code",
   "execution_count": 11,
   "id": "e670a435-cbc5-42bf-9118-d9474b4e396a",
   "metadata": {},
   "outputs": [],
   "source": [
    "vectorizer = TfidfVectorizer()\n",
    "tfidf_matrix = vectorizer.fit_transform(df['cleaned_text'])"
   ]
  },
  {
   "cell_type": "markdown",
   "id": "d06f26fd-a12f-4cf8-93c5-84600cd20e29",
   "metadata": {},
   "source": [
    "TfidfVectorizer() creates a TF-IDF transformer, and .fit_transform() learns vocabulary and applies TF-IDF\n",
    "\n",
    "Now, lets visualise the data."
   ]
  },
  {
   "cell_type": "code",
   "execution_count": 12,
   "id": "86d08f99-41ea-42e9-97c8-755d405c92c9",
   "metadata": {},
   "outputs": [
    {
     "name": "stdout",
     "output_type": "stream",
     "text": [
      "   dark  dragon     enjoy   explore  fascinate  futuristic  ghost  land  love  \\\n",
      "0   0.0     0.5  0.000000  0.000000        0.0    0.000000    0.0   0.5   0.5   \n",
      "1   0.0     0.0  0.447214  0.447214        0.0    0.447214    0.0   0.0   0.0   \n",
      "2   0.5     0.0  0.000000  0.000000        0.5    0.000000    0.5   0.0   0.0   \n",
      "\n",
      "   mysterious     space  story      tech  \n",
      "0         0.5  0.000000    0.0  0.000000  \n",
      "1         0.0  0.447214    0.0  0.447214  \n",
      "2         0.0  0.000000    0.5  0.000000  \n"
     ]
    }
   ],
   "source": [
    "tfidf_df = pd.DataFrame(tfidf_matrix.toarray(),columns=vectorizer.get_feature_names_out())\n",
    "print(tfidf_df)"
   ]
  },
  {
   "cell_type": "code",
   "execution_count": 15,
   "id": "f3d08bf5-20db-4c66-8329-d1ed48037073",
   "metadata": {},
   "outputs": [],
   "source": [
    "# Saving the output:\n",
    "tfidf_df.to_csv(\"../data/tfidf_vectors.csv\",index=False)"
   ]
  },
  {
   "cell_type": "markdown",
   "id": "2a3bf282-0450-4780-90b1-9693472e4105",
   "metadata": {},
   "source": [
    "Now, we can find out which two rows have similar tastes."
   ]
  },
  {
   "cell_type": "code",
   "execution_count": 16,
   "id": "0578b7e0-f28e-4ca3-851f-934672aa5531",
   "metadata": {},
   "outputs": [],
   "source": [
    "from sklearn.metrics.pairwise import cosine_similarity"
   ]
  },
  {
   "cell_type": "code",
   "execution_count": 17,
   "id": "4b9818e7-c510-46d2-994b-f83b9b102a33",
   "metadata": {},
   "outputs": [],
   "source": [
    "similarity_matrix = cosine_similarity(tfidf_df)"
   ]
  },
  {
   "cell_type": "code",
   "execution_count": 18,
   "id": "34c3319b-d33e-4dd1-a026-baa03c43fc57",
   "metadata": {},
   "outputs": [
    {
     "name": "stdout",
     "output_type": "stream",
     "text": [
      "[[1. 0. 0.]\n",
      " [0. 1. 0.]\n",
      " [0. 0. 1.]]\n"
     ]
    }
   ],
   "source": [
    "print(similarity_matrix)"
   ]
  },
  {
   "cell_type": "code",
   "execution_count": 19,
   "id": "84d2731d-3e9c-48a7-92de-ac8e52268093",
   "metadata": {},
   "outputs": [
    {
     "name": "stdout",
     "output_type": "stream",
     "text": [
      "name     Alice  Bob  Charlie\n",
      "name                        \n",
      "Alice      1.0  0.0      0.0\n",
      "Bob        0.0  1.0      0.0\n",
      "Charlie    0.0  0.0      1.0\n"
     ]
    }
   ],
   "source": [
    "similarity_df = pd.DataFrame(similarity_matrix,index=df['name'],columns = df['name'])\n",
    "print(similarity_df)"
   ]
  }
 ],
 "metadata": {
  "kernelspec": {
   "display_name": "Python (neurotale)",
   "language": "python",
   "name": "neurotale"
  },
  "language_info": {
   "codemirror_mode": {
    "name": "ipython",
    "version": 3
   },
   "file_extension": ".py",
   "mimetype": "text/x-python",
   "name": "python",
   "nbconvert_exporter": "python",
   "pygments_lexer": "ipython3",
   "version": "3.10.18"
  }
 },
 "nbformat": 4,
 "nbformat_minor": 5
}
